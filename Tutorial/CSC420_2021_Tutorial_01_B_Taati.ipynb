{
  "nbformat": 4,
  "nbformat_minor": 2,
  "metadata": {
    "colab": {
      "name": "CSC420_2021_Tutorial_01_B.Taati.ipynb",
      "provenance": [],
      "collapsed_sections": []
    },
    "kernelspec": {
      "name": "python3",
      "display_name": "Python 3.9.2 64-bit"
    },
    "accelerator": "TPU",
    "language_info": {
      "name": "python",
      "version": "3.9.2",
      "mimetype": "text/x-python",
      "codemirror_mode": {
        "name": "ipython",
        "version": 3
      },
      "pygments_lexer": "ipython3",
      "nbconvert_exporter": "python",
      "file_extension": ".py"
    },
    "interpreter": {
      "hash": "aee8b7b246df8f9039afb4144a1f6fd8d2ca17a180786b69acc140d282b71a49"
    }
  },
  "cells": [
    {
      "cell_type": "markdown",
      "source": [
        "#Tutorial 1\n",
        "\n",
        "#CSC420 - Fall 2021\n",
        "\n",
        "#Babak Taati"
      ],
      "metadata": {
        "id": "sRevpOVFhbJ8"
      }
    },
    {
      "cell_type": "markdown",
      "source": [
        "**numpy / PIL**"
      ],
      "metadata": {
        "id": "GEDZsknffkrv"
      }
    },
    {
      "cell_type": "code",
      "execution_count": null,
      "source": [
        "import numpy as np\n",
        "import matplotlib.pyplot as plt\n",
        "from PIL import Image"
      ],
      "outputs": [],
      "metadata": {
        "id": "hWLjLrVmfOdo"
      }
    },
    {
      "cell_type": "code",
      "execution_count": null,
      "source": [
        "I = Image.open(\"./images/CavePainting.jpg\")\n",
        "type(I)"
      ],
      "outputs": [],
      "metadata": {
        "id": "tOZ-JlIffVeV"
      }
    },
    {
      "cell_type": "code",
      "execution_count": null,
      "source": [
        "im = np.array(I)\n",
        "type(im)"
      ],
      "outputs": [],
      "metadata": {
        "id": "Z08jeRGKffOl"
      }
    },
    {
      "cell_type": "code",
      "execution_count": null,
      "source": [
        "plt.imshow(im)"
      ],
      "outputs": [],
      "metadata": {
        "id": "u3-g9_jpfgzk"
      }
    },
    {
      "cell_type": "code",
      "execution_count": null,
      "source": [
        "im.shape"
      ],
      "outputs": [],
      "metadata": {
        "id": "K1QEWhMTf1t3"
      }
    },
    {
      "cell_type": "code",
      "execution_count": null,
      "source": [
        "plt.imshow(im[:,:,1])\n",
        "# what happened? "
      ],
      "outputs": [],
      "metadata": {
        "id": "UxN56fuSf5BP"
      }
    },
    {
      "cell_type": "code",
      "execution_count": null,
      "source": [
        "plt.imshow(im[:,:,1],cmap='gray')\n",
        "plt.xticks([]), plt.yticks([])"
      ],
      "outputs": [],
      "metadata": {
        "id": "b-jdIAz8f-cu"
      }
    },
    {
      "cell_type": "code",
      "execution_count": null,
      "source": [
        "im_r = im.copy()\n",
        "im_r[:,:,1:3]=0\n",
        "plt.imshow(im_r)\n",
        "plt.xticks([]), plt.yticks([])"
      ],
      "outputs": [],
      "metadata": {
        "id": "N81IZBKbgC3A"
      }
    },
    {
      "cell_type": "code",
      "execution_count": null,
      "source": [
        "fig, ax = plt.subplots(1,3)\n",
        "#fig.suptitle('RGB channels', fontsize=20)\n",
        "for c in [0,1,2]:\n",
        "    im_c = np.zeros(im.shape,dtype=int)\n",
        "    im_c[:,:,c] = im[:,:,c]\n",
        "    ax[c].imshow(im_c)"
      ],
      "outputs": [],
      "metadata": {
        "id": "-F3gIHsCgC-j"
      }
    },
    {
      "cell_type": "code",
      "execution_count": null,
      "source": [
        "# larger figures\n",
        "fig = plt.figure(figsize=(20,16))\n",
        "ax1 = fig.add_subplot(131)\n",
        "ax2 = fig.add_subplot(132)\n",
        "ax3 = fig.add_subplot(133)\n",
        "\n",
        "im_r = im.copy()\n",
        "im_r[:,:,1:3]=0\n",
        "ax1.imshow(im_r)\n",
        "ax1.set_xticks([]), ax1.set_yticks([])\n",
        "\n",
        "im_g = im.copy()\n",
        "im_g[:,:,0]=0\n",
        "im_g[:,:,2]=0\n",
        "ax2.imshow(im_g)\n",
        "ax2.set_xticks([]), ax2.set_yticks([])\n",
        "\n",
        "im_b = im.copy()\n",
        "im_b[:,:,0:2]=0\n",
        "ax3.imshow(im_b)\n",
        "ax3.set_xticks([]), ax3.set_yticks([])"
      ],
      "outputs": [],
      "metadata": {
        "id": "5WuSy_55gDCk"
      }
    },
    {
      "cell_type": "code",
      "execution_count": null,
      "source": [
        "plt.imshow(im)\r\n",
        "plt.xticks([]), plt.yticks([])"
      ],
      "outputs": [],
      "metadata": {
        "id": "5cXgkHb5gDGH"
      }
    },
    {
      "cell_type": "markdown",
      "source": [
        "**OpenCV**"
      ],
      "metadata": {
        "id": "7-mzmPMPfoYI"
      }
    },
    {
      "cell_type": "code",
      "execution_count": null,
      "source": [
        "# install OpenCV\r\n",
        "!pip install opencv-python\r\n",
        "import cv2"
      ],
      "outputs": [],
      "metadata": {
        "id": "Q1exTeIU3TyW"
      }
    },
    {
      "cell_type": "code",
      "execution_count": null,
      "source": [
        "# read an image (warning: if file or path doesn't exist you don't get an error msg)\r\n",
        "img = cv2.imread('blahbla.jpg') "
      ],
      "outputs": [],
      "metadata": {
        "id": "DDlpP1MVOXAe"
      }
    },
    {
      "cell_type": "code",
      "execution_count": null,
      "source": [
        "type(img)"
      ],
      "outputs": [],
      "metadata": {
        "id": "eiVDvjahOlRK"
      }
    },
    {
      "cell_type": "code",
      "execution_count": null,
      "source": [
        "# read an image (make sure CavePainting.jpg is in the main folder in your Google Drive)\r\n",
        "img = cv2.imread('./images/CavePainting.jpg') # READS IN NUMPY ARRAY"
      ],
      "outputs": [],
      "metadata": {
        "id": "1zdSDeAp3XbJ"
      }
    },
    {
      "cell_type": "code",
      "execution_count": null,
      "source": [
        "whos"
      ],
      "outputs": [],
      "metadata": {
        "id": "KKXImd3x3dxI"
      }
    },
    {
      "cell_type": "code",
      "execution_count": null,
      "source": [
        "# not in colab\r\n",
        "# cv2.imshow('image',img)\r\n",
        "# cv2.waitKey(0)\r\n",
        "# cv2.destroyAllWindows()"
      ],
      "outputs": [],
      "metadata": {
        "id": "dVAPUGW53fKg"
      }
    },
    {
      "cell_type": "code",
      "execution_count": null,
      "source": [
        "# display the image\r\n",
        "h,w = img.shape[:2]\r\n",
        "print(img.shape)\r\n",
        "plt.imshow(img,cmap='gray')\r\n",
        "plt.show()\r\n",
        "# what happened?"
      ],
      "outputs": [],
      "metadata": {
        "id": "Me4Ovfld300i"
      }
    },
    {
      "cell_type": "code",
      "execution_count": null,
      "source": [
        "# BGR <--> RGB\r\n",
        "img2 = cv2.cvtColor(img, cv2.COLOR_BGR2RGB)\r\n",
        "plt.imshow(img2)\r\n",
        "plt.xticks([]), plt.yticks([])"
      ],
      "outputs": [],
      "metadata": {
        "id": "kd4x1CrM4WGK"
      }
    },
    {
      "cell_type": "markdown",
      "source": [
        "or: \n",
        "\n",
        "\n",
        "```\n",
        "from google.colab.patches import cv2_imshow # replacement for cv2.imshow for colab  // meh ...\n",
        "cv2_imshow(img)\n",
        "```\n",
        "\n",
        "\n"
      ],
      "metadata": {
        "id": "RPKK1nUwXo2c"
      }
    },
    {
      "cell_type": "code",
      "execution_count": null,
      "source": [
        "gray = cv2.cvtColor(img, cv2.COLOR_BGR2GRAY)\n",
        "plt.imshow(gray,cmap='gray')\n",
        "plt.xticks([]), plt.yticks([])"
      ],
      "outputs": [],
      "metadata": {
        "id": "cCS5PDEaWjYB"
      }
    },
    {
      "cell_type": "code",
      "execution_count": null,
      "source": [
        "hist = cv2.calcHist([gray],[0],None,[256],[0,256])\n",
        "plt.plot(hist)"
      ],
      "outputs": [],
      "metadata": {
        "id": "ET60wA6ZZcQj"
      }
    },
    {
      "cell_type": "code",
      "execution_count": null,
      "source": [
        "# histogram equalization \n",
        "equ = cv2.equalizeHist(gray)\n",
        "\n",
        "fig = plt.figure(figsize=(20,5))\n",
        "ax1 = fig.add_subplot(121)\n",
        "plt.imshow(equ, cmap='gray')\n",
        "\n",
        "ax2 = fig.add_subplot(122)\n",
        "hist = cv2.calcHist([equ],channels=[0],mask=None,histSize=[256],ranges=[0,256])\n",
        "plt.plot(hist)\n",
        "#plt.plot(hist, 'b.')"
      ],
      "outputs": [],
      "metadata": {
        "id": "T4axusicwYop"
      }
    },
    {
      "cell_type": "code",
      "execution_count": null,
      "source": [
        "fig = plt.figure(figsize=(10,10))\n",
        "ax1 = fig.add_subplot(311)\n",
        "ax2 = fig.add_subplot(312)\n",
        "ax3 = fig.add_subplot(313)\n",
        "hist = cv2.calcHist([img],channels=[0],mask=None,histSize=[256],ranges=[0,256]) # make sure you put [img] not img\n",
        "ax1.plot(hist), ax1.set_title('blue')\n",
        "hist = cv2.calcHist([img],channels=[1],mask=None,histSize=[256],ranges=[0,256]) # make sure you put [img] not img\n",
        "ax2.plot(hist), ax2.set_title('green')\n",
        "hist = cv2.calcHist([img],channels=[2],mask=None,histSize=[256],ranges=[0,256]) # make sure you put [img] not img\n",
        "ax3.plot(hist), ax3.set_title('red')"
      ],
      "outputs": [],
      "metadata": {
        "id": "k6Iv0PplJosm"
      }
    },
    {
      "cell_type": "code",
      "execution_count": null,
      "source": [
        "# same thing, but colour-coded\n",
        "\n",
        "fig = plt.figure(figsize=(20,5))\n",
        "ax1 = fig.add_subplot(121)\n",
        "plt.imshow(img2)\n",
        "\n",
        "ax2 = fig.add_subplot(122)\n",
        "hist = cv2.calcHist([img],channels=[0],mask=None,histSize=[256],ranges=[0,256])\n",
        "plt.plot(hist, color='b')\n",
        "hist = cv2.calcHist([img],channels=[1],mask=None,histSize=[256],ranges=[0,256])\n",
        "plt.plot(hist, color='g')\n",
        "hist = cv2.calcHist([img],channels=[2],mask=None,histSize=[256],ranges=[0,256])\n",
        "plt.plot(hist, color='r')\n",
        "\n"
      ],
      "outputs": [],
      "metadata": {
        "id": "bSZ5nJJIm92O"
      }
    },
    {
      "cell_type": "code",
      "execution_count": null,
      "source": [
        "# histogram of an image mask\n",
        "mask = np.zeros(img.shape[:2], np.uint8)\n",
        "mask[200:350,40:250] = 255 # around the white cow\n",
        "\n",
        "fig = plt.figure(figsize=(20,5))\n",
        "ax1 = fig.add_subplot(121)\n",
        "masked_img = cv2.bitwise_and(img,img,mask=mask) # just for showing. we don't need this. \n",
        "plt.imshow(cv2.cvtColor(masked_img, cv2.COLOR_BGR2RGB))\n",
        "plt.axis('off')\n",
        "\n",
        "ax2 = fig.add_subplot(122)\n",
        "hist = cv2.calcHist([img],channels=[0],mask=mask,histSize=[256],ranges=[0,256])\n",
        "plt.plot(hist, color='b')\n",
        "hist = cv2.calcHist([img],channels=[1],mask=mask,histSize=[256],ranges=[0,256])\n",
        "plt.plot(hist, color='g')\n",
        "hist = cv2.calcHist([img],channels=[2],mask=mask,histSize=[256],ranges=[0,256])\n",
        "plt.plot(hist, color='r')"
      ],
      "outputs": [],
      "metadata": {
        "id": "Kz61f8sDkQtR"
      }
    },
    {
      "cell_type": "code",
      "execution_count": null,
      "source": [
        "# histogram equalization of color image \n",
        "equ = img.copy()\n",
        "# equ[:,:,0] = cv2.equalizeHist(equ[:,:,0]) \n",
        "equ[:,:,1] = cv2.equalizeHist(equ[:,:,1]) \n",
        "# equ[:,:,2] = cv2.equalizeHist(equ[:,:,2]) \n",
        "\n",
        "fig = plt.figure(figsize=(20,5))\n",
        "ax1 = fig.add_subplot(121)\n",
        "plt.imshow(cv2.cvtColor(equ, cv2.COLOR_BGR2RGB))\n",
        "plt.axis('off')\n",
        "\n",
        "\n",
        "ax2 = fig.add_subplot(122)\n",
        "hist = cv2.calcHist([equ],channels=[0],mask=None,histSize=[256],ranges=[0,256])\n",
        "plt.plot(hist, color='b')\n",
        "hist = cv2.calcHist([equ],channels=[1],mask=None,histSize=[256],ranges=[0,256])\n",
        "plt.plot(hist, color='g')\n",
        "hist = cv2.calcHist([equ],channels=[2],mask=None,histSize=[256],ranges=[0,256])\n",
        "plt.plot(hist, color='r')\n"
      ],
      "outputs": [],
      "metadata": {
        "id": "wrAD2lGEnwAs"
      }
    },
    {
      "cell_type": "code",
      "execution_count": null,
      "source": [
        "# histogram equalization of color image, another way \n",
        "hsv = cv2.cvtColor(img, cv2.COLOR_BGR2HSV) # convert to HSV colour space\n",
        "hsv[:,:,2] = cv2.equalizeHist(hsv[:,:,2]) # histogram equalize the VALUE channel\n",
        "equ = cv2.cvtColor(hsv, cv2.COLOR_HSV2RGB)\n",
        "\n",
        "\n",
        "fig = plt.figure(figsize=(20,5))\n",
        "ax1 = fig.add_subplot(121)\n",
        "plt.imshow(equ)\n",
        "plt.axis('off')\n",
        "\n",
        "\n",
        "ax2 = fig.add_subplot(122)\n",
        "hist = cv2.calcHist([equ],channels=[0],mask=None,histSize=[256],ranges=[0,256])\n",
        "plt.plot(hist, color='b')\n",
        "hist = cv2.calcHist([equ],channels=[1],mask=None,histSize=[256],ranges=[0,256])\n",
        "plt.plot(hist, color='g')\n",
        "hist = cv2.calcHist([equ],channels=[2],mask=None,histSize=[256],ranges=[0,256])\n",
        "plt.plot(hist, color='r')"
      ],
      "outputs": [],
      "metadata": {
        "id": "3Z9aFgHn08nc"
      }
    },
    {
      "cell_type": "code",
      "execution_count": null,
      "source": [
        "# let's make a function\n",
        "def imshowBGR2RGB( im ):\n",
        "  img = cv2.cvtColor(im, cv2.COLOR_BGR2RGB)\n",
        "  plt.imshow(img)\n",
        "  plt.axis('off')\n",
        "  return"
      ],
      "outputs": [],
      "metadata": {
        "id": "qUNKOTOa4xbu"
      }
    },
    {
      "cell_type": "code",
      "execution_count": null,
      "source": [
        "imshowBGR2RGB(img)"
      ],
      "outputs": [],
      "metadata": {
        "id": "CrRtRkCQlqzF"
      }
    },
    {
      "cell_type": "code",
      "execution_count": null,
      "source": [
        "# scaling \n",
        "rows, cols = img.shape[:2]\n",
        "res = cv2.resize(img, (2*cols, 2*rows), interpolation = cv2.INTER_CUBIC) # or INTER_LINEAR\n",
        "imshowBGR2RGB(res)\n",
        "# what happened?"
      ],
      "outputs": [],
      "metadata": {
        "id": "ouYnuGMUmUdF"
      }
    },
    {
      "cell_type": "code",
      "execution_count": null,
      "source": [
        "# whos"
      ],
      "outputs": [],
      "metadata": {
        "id": "B6fXT5d0Jn4d"
      }
    },
    {
      "cell_type": "code",
      "execution_count": null,
      "source": [
        "print(img.shape)\n",
        "print(res.shape)"
      ],
      "outputs": [],
      "metadata": {
        "id": "T1z9dMtYH0eW"
      }
    },
    {
      "cell_type": "code",
      "execution_count": null,
      "source": [
        "# scaling \n",
        "res = cv2.resize(img,(400, 150), interpolation = cv2.INTER_AREA) # when reducing image size INTER_AREA can be faster\n",
        "# note that in numpy arrays the first number is the # rows, in OpenCV it's the number of columns\n",
        "imshowBGR2RGB(res)"
      ],
      "outputs": [],
      "metadata": {
        "id": "h9YeYWwbmm9U"
      }
    },
    {
      "cell_type": "code",
      "execution_count": null,
      "source": [
        "# flip\n",
        "flip = cv2.flip(img, 0) # or 1\n",
        "imshowBGR2RGB(flip)"
      ],
      "outputs": [],
      "metadata": {
        "id": "9DqsfImhckuy"
      }
    },
    {
      "cell_type": "code",
      "execution_count": null,
      "source": [
        "# rotate (centre, angle, scale)\n",
        "M = cv2.getRotationMatrix2D((100, 120), -15, .7)\n",
        "dst = cv2.warpAffine(img, M, (cols,rows))\n",
        "imshowBGR2RGB(dst)"
      ],
      "outputs": [],
      "metadata": {
        "id": "UZKtwTnTnIDk"
      }
    },
    {
      "cell_type": "code",
      "execution_count": null,
      "source": [
        "# affine transformation\n",
        "pts1 = np.float32([[5,5],[5,50],[50,5]])\n",
        "pts2 = np.float32([[10,3],[20,30],[40,6]])\n",
        "\n",
        "M = cv2.getAffineTransform(pts1,pts2)\n",
        "\n",
        "dst = cv2.warpAffine(img,M,(cols,rows))\n",
        "\n",
        "imshowBGR2RGB(dst)"
      ],
      "outputs": [],
      "metadata": {
        "id": "Fx7nShEpoDTV"
      }
    },
    {
      "cell_type": "code",
      "execution_count": null,
      "source": [
        "# perspective transformation\n",
        "\n",
        "# getPerspectiveTransform\n",
        "\n",
        "# how many point matches do we need?"
      ],
      "outputs": [],
      "metadata": {
        "id": "kSXsttwF7a_B"
      }
    },
    {
      "cell_type": "code",
      "execution_count": null,
      "source": [
        "# averaging\n",
        "\n",
        "kernel = np.ones((7,7),np.float32)/49\n",
        "dst = cv2.filter2D(img,-1,kernel)\n",
        "\n",
        "imshowBGR2RGB(dst)"
      ],
      "outputs": [],
      "metadata": {
        "id": "Jd7zQR-x8Dz-"
      }
    },
    {
      "cell_type": "code",
      "execution_count": null,
      "source": [
        "kernel"
      ],
      "outputs": [],
      "metadata": {
        "id": "5VL7q7dVY-qy"
      }
    },
    {
      "cell_type": "code",
      "execution_count": null,
      "source": [
        "# compare with the original\n",
        "imshowBGR2RGB(img)"
      ],
      "outputs": [],
      "metadata": {
        "id": "V47bCuBU8Ye9"
      }
    },
    {
      "cell_type": "code",
      "execution_count": null,
      "source": [
        "# larger window\n",
        "kernel = np.ones((15,15),np.float32)/225\n",
        "dst = cv2.filter2D(img,-1,kernel)\n",
        "\n",
        "imshowBGR2RGB(dst)"
      ],
      "outputs": [],
      "metadata": {
        "id": "9AahIlAO8ucm"
      }
    },
    {
      "cell_type": "code",
      "execution_count": null,
      "source": [
        "# cv2.blur does the exact same thing\n",
        "dst = cv2.blur(img,ksize=(15,15))\n",
        "imshowBGR2RGB(dst)"
      ],
      "outputs": [],
      "metadata": {
        "id": "_qIJiSS4ZWN7"
      }
    },
    {
      "cell_type": "code",
      "execution_count": null,
      "source": [
        "# Gaussian blur\n",
        "kernel = cv2.getGaussianKernel(15, 5)\n",
        "\n",
        "dst = cv2.filter2D(img,-1,kernel)\n",
        "\n",
        "imshowBGR2RGB(dst)\n",
        "\n",
        "# alternative: GaussianBlur(img,(15,15),20) "
      ],
      "outputs": [],
      "metadata": {
        "id": "3WDnrq7lWBNS"
      }
    },
    {
      "cell_type": "code",
      "execution_count": null,
      "source": [
        "median = cv2.medianBlur(img, 7)\n",
        "imshowBGR2RGB(median)"
      ],
      "outputs": [],
      "metadata": {
        "id": "miF-qIqC8yXG"
      }
    },
    {
      "cell_type": "code",
      "execution_count": null,
      "source": [
        "# salt and pepper noise\n",
        "noisy_img = img.copy() # what happens if we say noisy_img = img?\n",
        "# salt\n",
        "R = np.random.rand(img.shape[0], img.shape[1], img.shape[2]) > 0.70\n",
        "noisy_img[R] = 255\n",
        "# pepper\n",
        "R = np.random.rand(img.shape[0], img.shape[1], img.shape[2]) > 0.70\n",
        "noisy_img[R] = 0\n",
        "imshowBGR2RGB(noisy_img)"
      ],
      "outputs": [],
      "metadata": {
        "id": "3IwuM5Rlb2fJ"
      }
    },
    {
      "cell_type": "code",
      "execution_count": null,
      "source": [
        "median = cv2.medianBlur(noisy_img, 7)\n",
        "imshowBGR2RGB(median)"
      ],
      "outputs": [],
      "metadata": {
        "id": "5s_SHXk-d8S1"
      }
    },
    {
      "cell_type": "code",
      "execution_count": null,
      "source": [
        "G = cv2.GaussianBlur(noisy_img, (7,7), sigmaX=10)\n",
        "imshowBGR2RGB(G)\n"
      ],
      "outputs": [],
      "metadata": {
        "id": "horo4wy2eNH2"
      }
    },
    {
      "cell_type": "code",
      "execution_count": null,
      "source": [
        "blur = cv2.bilateralFilter(img,30,40,75) \n",
        "imshowBGR2RGB(blur)"
      ],
      "outputs": [],
      "metadata": {
        "id": "GUs4_mLG9fEg"
      }
    },
    {
      "cell_type": "code",
      "execution_count": null,
      "source": [
        "blur = cv2.bilateralFilter(blur,30,15,75)\n",
        "blur = cv2.bilateralFilter(blur,30,15,75)\n",
        "blur = cv2.bilateralFilter(blur,30,15,75)\n",
        "blur = cv2.bilateralFilter(blur,30,15,75) \n",
        "imshowBGR2RGB(blur)"
      ],
      "outputs": [],
      "metadata": {
        "id": "mDd20WyZezQO"
      }
    },
    {
      "cell_type": "markdown",
      "source": [
        "**draw rectangle, circle, ...**"
      ],
      "metadata": {
        "id": "K45ZG9_uvVoS"
      }
    },
    {
      "cell_type": "code",
      "execution_count": null,
      "source": [
        "img = np.zeros(shape=(1080,1920,3),dtype=np.int16)\n",
        "plt.imshow(img)"
      ],
      "outputs": [],
      "metadata": {
        "id": "NU_gU6JUvUvj"
      }
    },
    {
      "cell_type": "code",
      "execution_count": null,
      "source": [
        "cv2.rectangle(img,pt1=(850,850),pt2=(950,1050),color=(255,255,100),thickness=-1);\n",
        "plt.imshow(img)\n",
        "# what's another way of doing this?"
      ],
      "outputs": [],
      "metadata": {
        "id": "Q9vMDVBTtKpp"
      }
    },
    {
      "cell_type": "code",
      "execution_count": null,
      "source": [
        "img[80:130,30:400,:]=255\n",
        "plt.imshow(img)"
      ],
      "outputs": [],
      "metadata": {
        "id": "DMFm9XkItSBZ"
      }
    },
    {
      "cell_type": "code",
      "execution_count": null,
      "source": [
        "cv2.circle(img, center=(850,550), radius=400, color=(50,150,255), thickness=30);\n",
        "cv2.line(img,pt1=(1500,10),pt2=(80,900),color=(50, 200, 255),thickness=50)\n",
        "cv2.rectangle(img,pt1=(200,300),pt2=(1800,650),color=(200,255,0),thickness=40);\n",
        "plt.imshow(img)"
      ],
      "outputs": [],
      "metadata": {
        "id": "g3_6rdRdwUwO"
      }
    },
    {
      "cell_type": "code",
      "execution_count": null,
      "source": [
        "pts = np.array([[825, 20], \n",
        "                [800, 400], \n",
        "                [640, 500], \n",
        "                [440, 139], \n",
        "                [236, 300], \n",
        "                [30, 30]], \n",
        "               np.int32)\n",
        "  \n",
        "pts = pts.reshape((-1, 1, 2))\n",
        "cv2.polylines(img,[pts],isClosed=True,color=(255,255,0),thickness=5)\n",
        "# also try fillPoly\n",
        "plt.imshow(img)"
      ],
      "outputs": [],
      "metadata": {
        "id": "S7W4sbvM7CLy"
      }
    },
    {
      "cell_type": "code",
      "execution_count": null,
      "source": [
        "img = cv2.imread('/content/drive/My Drive/CavePainting.jpg') # READS IN NUMPY ARRAY\n",
        "img2 = img.copy()\n",
        "cv2.rectangle(img2,pt1=(40,200),pt2=(250,350),color=(100,0,0),thickness=10);\n",
        "cv2.putText(img2,text='Cow',org=(80,180), fontFace=cv2.FONT_HERSHEY_SIMPLEX, fontScale= 2,color=(0,0,0),thickness=4)\n",
        "imshowBGR2RGB(img2)"
      ],
      "outputs": [],
      "metadata": {
        "id": "MLUmiynryMx4"
      }
    },
    {
      "cell_type": "markdown",
      "source": [
        "# Template Matching"
      ],
      "metadata": {
        "id": "wskfBccDJB5d"
      }
    },
    {
      "cell_type": "code",
      "execution_count": null,
      "source": [
        "gray = cv2.cvtColor(img, cv2.COLOR_BGR2GRAY)\n",
        "white_cow = gray[200:350,40:250]"
      ],
      "outputs": [],
      "metadata": {
        "id": "26i7AVNOI9Mx"
      }
    },
    {
      "cell_type": "code",
      "execution_count": null,
      "source": [
        "fig = plt.figure(figsize=(20,16))\n",
        "ax1 = fig.add_subplot(121)\n",
        "ax2 = fig.add_subplot(122)\n",
        "\n",
        "ax1.imshow(gray, cmap='gray')\n",
        "ax2.imshow(white_cow, cmap='gray')\n"
      ],
      "outputs": [],
      "metadata": {
        "id": "3-EWyFzTJIzi"
      }
    },
    {
      "cell_type": "code",
      "execution_count": null,
      "source": [
        "print(gray.shape)\n",
        "print(white_cow.shape)"
      ],
      "outputs": [],
      "metadata": {
        "id": "e33nF1lRJpfK"
      }
    },
    {
      "cell_type": "code",
      "execution_count": null,
      "source": [
        "result = cv2.matchTemplate(gray,white_cow,method=cv2.TM_CCOEFF) \n",
        "# other possible methods: https://docs.opencv.org/3.4/de/da9/tutorial_template_matching.html\n",
        "plt.imshow(result,cmap='gray')"
      ],
      "outputs": [],
      "metadata": {
        "id": "J5y-u8RULIv5"
      }
    },
    {
      "cell_type": "code",
      "execution_count": null,
      "source": [
        "minVal, maxVal, minLoc, maxLoc = cv2.minMaxLoc(result)\n",
        "img_display = gray.copy()\n",
        "cv2.rectangle(img_display, maxLoc, (maxLoc[0] + white_cow.shape[1], maxLoc[1] + white_cow.shape[0]), color=(0,0,0), thickness=5)\n",
        "plt.imshow(img_display,cmap='gray')\n",
        "plt.axis('off')"
      ],
      "outputs": [],
      "metadata": {
        "id": "vJUpzNPeWWhg"
      }
    },
    {
      "cell_type": "code",
      "execution_count": null,
      "source": [
        "# let's try another method\n",
        "result = cv2.matchTemplate(gray,white_cow,method=cv2.TM_CCORR) # cross correlation\n",
        "minVal, maxVal, minLoc, maxLoc = cv2.minMaxLoc(result)\n",
        "img_display = gray.copy()\n",
        "cv2.rectangle(img_display, maxLoc, (maxLoc[0] + white_cow.shape[1], maxLoc[1] + white_cow.shape[0]), color=(0,0,0), thickness=5)\n",
        "plt.imshow(img_display,cmap='gray')\n",
        "plt.axis('off')\n",
        "\n",
        "# can you explain why?"
      ],
      "outputs": [],
      "metadata": {
        "id": "GsODApymW2-8"
      }
    }
  ]
}