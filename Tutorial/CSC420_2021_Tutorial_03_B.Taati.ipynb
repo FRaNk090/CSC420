{
 "cells": [
  {
   "cell_type": "markdown",
   "source": [
    "# Tutorial 3\n",
    "\n",
    "# CSC420 - Fall 2021\n",
    "\n",
    "# Babak Taati"
   ],
   "metadata": {}
  },
  {
   "cell_type": "markdown",
   "source": [
    "# (this tutorial doesn't run in Colab)"
   ],
   "metadata": {}
  },
  {
   "cell_type": "code",
   "execution_count": 1,
   "source": [
    "import cv2\r\n",
    "import numpy as np"
   ],
   "outputs": [],
   "metadata": {}
  },
  {
   "cell_type": "code",
   "execution_count": null,
   "source": [
    "# mouse callback function - draw a circle\r\n",
    "def draw_circle(event,x,y,flags,param):\r\n",
    "\r\n",
    "    global center,radius,clicked\r\n",
    "\r\n",
    "    if event == cv2.EVENT_LBUTTONDOWN: # mouse click down -> get centre\r\n",
    "        center = (x,y)\r\n",
    "        clicked = False\r\n",
    "    \r\n",
    "    if event == cv2.EVENT_LBUTTONUP: # mouse release -> calculate radius\r\n",
    "        radius = int( np.linalg.norm( np.asarray(center) - np.asarray((x,y)) ) )\r\n",
    "        clicked = True\r\n",
    "        \r\n",
    "# initialize \r\n",
    "center = (0,0)\r\n",
    "clicked = False\r\n",
    "radius = 0\r\n",
    "\r\n",
    "\r\n",
    "img = cv2.imread('./images/UofT.jpg') # READS IN NUMPY ARRAY\r\n",
    "\r\n",
    "cv2.namedWindow('UofT') # create a named window\r\n",
    "cv2.setMouseCallback('UofT', draw_circle) # link the named window with the callback function\r\n",
    "\r\n",
    "while True:\r\n",
    "\r\n",
    "    if clicked==True:\r\n",
    "        cv2.circle(img, center=center, radius=radius, color=(255,100,20), thickness=3)\r\n",
    "        \r\n",
    "    cv2.imshow('UofT', img)\r\n",
    "\r\n",
    "    if cv2.waitKey(1) & 0xFF == 27: # wait a 1 ms and exit if ESC is pressed\r\n",
    "        break\r\n",
    "\r\n",
    "cv2.destroyAllWindows()"
   ],
   "outputs": [
    {
     "output_type": "error",
     "ename": "Error",
     "evalue": "Session cannot generate requests",
     "traceback": [
      "Error: Session cannot generate requests",
      "at w.executeCodeCell (c:\\Users\\Frank\\.vscode\\extensions\\ms-toolsai.jupyter-2021.8.2041215044\\out\\client\\extension.js:52:301310)",
      "at w.execute (c:\\Users\\Frank\\.vscode\\extensions\\ms-toolsai.jupyter-2021.8.2041215044\\out\\client\\extension.js:52:300703)",
      "at w.start (c:\\Users\\Frank\\.vscode\\extensions\\ms-toolsai.jupyter-2021.8.2041215044\\out\\client\\extension.js:52:296367)",
      "at runMicrotasks (<anonymous>)",
      "at processTicksAndRejections (internal/process/task_queues.js:93:5)",
      "at async t.CellExecutionQueue.executeQueuedCells (c:\\Users\\Frank\\.vscode\\extensions\\ms-toolsai.jupyter-2021.8.2041215044\\out\\client\\extension.js:52:311160)",
      "at async t.CellExecutionQueue.start (c:\\Users\\Frank\\.vscode\\extensions\\ms-toolsai.jupyter-2021.8.2041215044\\out\\client\\extension.js:52:310700)"
     ]
    }
   ],
   "metadata": {}
  },
  {
   "cell_type": "code",
   "execution_count": 4,
   "source": [
    "# display live camera feed\r\n",
    "\r\n",
    "cap = cv2.VideoCapture(0) # 0: default camera - (you can try (1) or (2) ... if you have more than one camera)\r\n",
    "\r\n",
    "width = int(cap.get(cv2.CAP_PROP_FRAME_WIDTH)) \r\n",
    "height = int(cap.get(cv2.CAP_PROP_FRAME_HEIGHT))\r\n",
    "\r\n",
    "print('width = ', width)\r\n",
    "print('height = ', height)\r\n",
    "\r\n",
    "while True:\r\n",
    "    \r\n",
    "    ret, frame = cap.read() # grab a fram\r\n",
    "    cv2.imshow('live camera feed',frame) # display it\r\n",
    "    \r\n",
    "    if cv2.waitKey(1) & 0xFF == 27: # wait 1 ms and exit is ESC is pressed\r\n",
    "        break\r\n",
    "\r\n",
    "cap.release() # release the capture\r\n",
    "cv2.destroyAllWindows() # close the window"
   ],
   "outputs": [
    {
     "output_type": "stream",
     "name": "stdout",
     "text": [
      "width =  640\n",
      "height =  480\n"
     ]
    }
   ],
   "metadata": {}
  },
  {
   "cell_type": "code",
   "execution_count": 6,
   "source": [
    "# display live camera feed & save into file\n",
    "\n",
    "cap = cv2.VideoCapture(0) \n",
    "\n",
    "width = int(cap.get(cv2.CAP_PROP_FRAME_WIDTH)) \n",
    "height = int(cap.get(cv2.CAP_PROP_FRAME_HEIGHT))\n",
    "\n",
    "fps = 20 # what's the problem with this?\n",
    "         # our capture is as fast as we can, but we're writing in the file header 20 fps\n",
    "         # try setting fps to 200 and see what happens (play the recorded video)\n",
    "writer = cv2.VideoWriter('test.mp4', cv2.VideoWriter_fourcc(*'XVID'),fps, (width, height))\n",
    "\n",
    "while True:\n",
    "    \n",
    "    ret, frame = cap.read() # grab a fram\n",
    "    cv2.imshow('live camera feed',frame) # display it\n",
    "    writer.write(frame) # write to file\n",
    "    \n",
    "    if cv2.waitKey(1) & 0xFF == 27: # wait 1 ms and exit is ESC is pressed\n",
    "        break\n",
    "\n",
    "\n",
    "cap.release()\n",
    "writer.release() # release the write capture \n",
    "cv2.destroyAllWindows()"
   ],
   "outputs": [],
   "metadata": {}
  },
  {
   "cell_type": "code",
   "execution_count": 7,
   "source": [
    "# video from file\n",
    "\n",
    "import time\n",
    "\n",
    "cap = cv2.VideoCapture('myshortvideo.mp4')\n",
    "\n",
    "fps = int(cap.get(cv2.CAP_PROP_FPS)) \n",
    "print('fps = ', fps)\n",
    "\n",
    "if cap.isOpened()== False: # ==false e.g. if video file doesn't exist or path is incorrect\n",
    "    print(\"could not open video file.\")\n",
    "\n",
    "# While the video is opened\n",
    "while cap.isOpened():\n",
    "\n",
    "    ret, frame = cap.read()\n",
    "    \n",
    "    if ret == True: # if frame capture successful\n",
    "        \n",
    "        time.sleep(1./fps - 0.001) # we'll wait another ms later for waitKey\n",
    "        cv2.imshow('video',frame)\n",
    "\n",
    "        if cv2.waitKey(1) & 0xFF == 27: # wait 1 ms and exit is ESC is pressed\n",
    "            break\n",
    "    else:\n",
    "        break # jump out when the video is over.\n",
    "        \n",
    "cap.release()\n",
    "cv2.destroyAllWindows()"
   ],
   "outputs": [
    {
     "output_type": "stream",
     "name": "stdout",
     "text": [
      "fps =  22\n"
     ]
    }
   ],
   "metadata": {}
  },
  {
   "cell_type": "code",
   "execution_count": 10,
   "source": [
    "# video from file / modify / write to file\n",
    "\n",
    "cap = cv2.VideoCapture('myshortvideo.mp4')\n",
    "\n",
    "\n",
    "fps = int(cap.get(cv2.CAP_PROP_FPS)) \n",
    "print('fps = ', fps)\n",
    "\n",
    "width = int(cap.get(cv2.CAP_PROP_FRAME_WIDTH)) \n",
    "height = int(cap.get(cv2.CAP_PROP_FRAME_HEIGHT))\n",
    "\n",
    "w = int(width/2)\n",
    "h = height //2\n",
    "\n",
    "print('w = ', w)\n",
    "print('h = ', h)\n",
    "\n",
    "writer = cv2.VideoWriter('myshortvideo_smaller.mp4', cv2.VideoWriter_fourcc(*'XVID'),fps, (w, h))\n",
    "\n",
    "if cap.isOpened()== False: # ==false e.g. if video file doesn't exist or path is incorrect\n",
    "    print(\"could not open video file.\")\n",
    "\n",
    "# While the video is opened\n",
    "while cap.isOpened():\n",
    "\n",
    "    ret, frame = cap.read()\n",
    "    \n",
    "    if ret == True: # if frame capture successful\n",
    "        \n",
    "        time.sleep(1./fps - 0.001) # we'll wait another ms later for waitKey\n",
    "        cv2.imshow('video',frame)\n",
    "\n",
    "        small_frame = cv2.resize(frame, (w,h))\n",
    "        writer.write(small_frame) # write to file\n",
    "        \n",
    "        if cv2.waitKey(1) & 0xFF == 27: # wait 1 ms and exit is ESC is pressed\n",
    "            break\n",
    "    else:\n",
    "        break # jump out when the video is over.\n",
    "        \n",
    "cap.release()\n",
    "writer.release()\n",
    "cv2.destroyAllWindows()"
   ],
   "outputs": [
    {
     "output_type": "stream",
     "name": "stdout",
     "text": [
      "fps =  22\n",
      "w =  432\n",
      "h =  240\n"
     ]
    }
   ],
   "metadata": {}
  },
  {
   "cell_type": "code",
   "execution_count": null,
   "source": [],
   "outputs": [],
   "metadata": {}
  }
 ],
 "metadata": {
  "kernelspec": {
   "name": "python3",
   "display_name": "Python 3.8.8 64-bit ('base': conda)"
  },
  "language_info": {
   "codemirror_mode": {
    "name": "ipython",
    "version": 3
   },
   "file_extension": ".py",
   "mimetype": "text/x-python",
   "name": "python",
   "nbconvert_exporter": "python",
   "pygments_lexer": "ipython3",
   "version": "3.8.8"
  },
  "interpreter": {
   "hash": "f78bda16e7de3e471e8ce197dc8db82cd025bffb4e149909710f6b4080d54a31"
  }
 },
 "nbformat": 4,
 "nbformat_minor": 2
}